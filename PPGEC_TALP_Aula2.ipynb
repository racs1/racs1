{
  "nbformat": 4,
  "nbformat_minor": 0,
  "metadata": {
    "colab": {
      "provenance": [],
      "include_colab_link": true
    },
    "kernelspec": {
      "name": "python3",
      "display_name": "Python 3"
    },
    "language_info": {
      "name": "python"
    }
  },
  "cells": [
    {
      "cell_type": "markdown",
      "metadata": {
        "id": "view-in-github",
        "colab_type": "text"
      },
      "source": [
        "<a href=\"https://colab.research.google.com/github/racs1/racs1/blob/main/PPGEC_TALP_Aula2.ipynb\" target=\"_parent\"><img src=\"https://colab.research.google.com/assets/colab-badge.svg\" alt=\"Open In Colab\"/></a>"
      ]
    },
    {
      "cell_type": "code",
      "execution_count": null,
      "metadata": {
        "colab": {
          "base_uri": "https://localhost:8080/",
          "height": 263
        },
        "id": "6Z_TUwQ0Z951",
        "outputId": "4987d5d0-6547-4547-8529-a91cf1f1d46b"
      },
      "outputs": [
        {
          "name": "stdout",
          "output_type": "stream",
          "text": [
            "Qual o valor da cotação do dólar no dia de hoje? 5.10\n",
            "Quantos dólares deseja comprar? cinco\n"
          ]
        },
        {
          "output_type": "error",
          "ename": "ValueError",
          "evalue": "ignored",
          "traceback": [
            "\u001b[0;31m---------------------------------------------------------------------------\u001b[0m",
            "\u001b[0;31mValueError\u001b[0m                                Traceback (most recent call last)",
            "\u001b[0;32m<ipython-input-2-f4d9ec9b59cd>\u001b[0m in \u001b[0;36m<cell line: 2>\u001b[0;34m()\u001b[0m\n\u001b[1;32m      1\u001b[0m \u001b[0mcotacao_dolar\u001b[0m \u001b[0;34m=\u001b[0m \u001b[0mfloat\u001b[0m\u001b[0;34m(\u001b[0m\u001b[0minput\u001b[0m\u001b[0;34m(\u001b[0m\u001b[0;34m\"Qual o valor da cotação do dólar no dia de hoje? \"\u001b[0m\u001b[0;34m)\u001b[0m\u001b[0;34m)\u001b[0m\u001b[0;34m\u001b[0m\u001b[0;34m\u001b[0m\u001b[0m\n\u001b[0;32m----> 2\u001b[0;31m \u001b[0mquantidade_compra\u001b[0m \u001b[0;34m=\u001b[0m \u001b[0mint\u001b[0m\u001b[0;34m(\u001b[0m\u001b[0minput\u001b[0m\u001b[0;34m(\u001b[0m\u001b[0;34m\"Quantos dólares deseja comprar? \"\u001b[0m\u001b[0;34m)\u001b[0m\u001b[0;34m)\u001b[0m\u001b[0;34m\u001b[0m\u001b[0;34m\u001b[0m\u001b[0m\n\u001b[0m\u001b[1;32m      3\u001b[0m \u001b[0mvalor_real\u001b[0m \u001b[0;34m=\u001b[0m \u001b[0mcotacao_dolar\u001b[0m \u001b[0;34m*\u001b[0m \u001b[0mquantidade_compra\u001b[0m\u001b[0;34m\u001b[0m\u001b[0;34m\u001b[0m\u001b[0m\n\u001b[1;32m      4\u001b[0m \u001b[0mprint\u001b[0m\u001b[0;34m(\u001b[0m\u001b[0;34m\"O preço de {} dólares na cotação de hoje é de R$ {:.2f}\"\u001b[0m\u001b[0;34m.\u001b[0m\u001b[0mformat\u001b[0m\u001b[0;34m(\u001b[0m\u001b[0mquantidade_compra\u001b[0m\u001b[0;34m,\u001b[0m \u001b[0mvalor_real\u001b[0m\u001b[0;34m)\u001b[0m\u001b[0;34m)\u001b[0m\u001b[0;34m\u001b[0m\u001b[0;34m\u001b[0m\u001b[0m\n",
            "\u001b[0;31mValueError\u001b[0m: invalid literal for int() with base 10: 'cinco'"
          ]
        }
      ],
      "source": [
        "cotacao_dolar = float(input(\"Qual o valor da cotação do dólar no dia de hoje? \"))\n",
        "quantidade_compra = int(input(\"Quantos dólares deseja comprar? \"))\n",
        "valor_real = cotacao_dolar * quantidade_compra\n",
        "print(\"O preço de {} dólares na cotação de hoje é de R$ {:.2f}\".format(quantidade_compra, valor_real))"
      ]
    },
    {
      "cell_type": "code",
      "source": [
        "temp = 'cinco'\n",
        "temp.isdigit()"
      ],
      "metadata": {
        "colab": {
          "base_uri": "https://localhost:8080/"
        },
        "id": "oFYryis5a2VH",
        "outputId": "17055a25-cd38-4667-cd04-a240e7caa035"
      },
      "execution_count": null,
      "outputs": [
        {
          "output_type": "execute_result",
          "data": {
            "text/plain": [
              "False"
            ]
          },
          "metadata": {},
          "execution_count": 3
        }
      ]
    },
    {
      "cell_type": "code",
      "source": [
        "temp = '50'\n",
        "temp.isdigit()"
      ],
      "metadata": {
        "colab": {
          "base_uri": "https://localhost:8080/"
        },
        "id": "jDMGzJuTbhxJ",
        "outputId": "51f5cc97-f5b0-45b2-dbef-46ad043569fc"
      },
      "execution_count": null,
      "outputs": [
        {
          "output_type": "execute_result",
          "data": {
            "text/plain": [
              "True"
            ]
          },
          "metadata": {},
          "execution_count": 13
        }
      ]
    },
    {
      "cell_type": "code",
      "source": [
        "temp = '4.5'\n",
        "temp.isdigit()"
      ],
      "metadata": {
        "colab": {
          "base_uri": "https://localhost:8080/"
        },
        "id": "osVh6SsObmNB",
        "outputId": "0dd12f89-fec0-4dfc-b8c4-3edc7a2c799d"
      },
      "execution_count": null,
      "outputs": [
        {
          "output_type": "execute_result",
          "data": {
            "text/plain": [
              "False"
            ]
          },
          "metadata": {},
          "execution_count": 10
        }
      ]
    },
    {
      "cell_type": "markdown",
      "source": [
        "Trabalhando com if / elif / else e lógica booleana"
      ],
      "metadata": {
        "id": "fC5YKG_jnBFj"
      }
    },
    {
      "cell_type": "code",
      "source": [
        "cotacao_dolar = input(\"Qual o valor da cotação do dólar no dia de hoje? \")\n",
        "if cotacao_dolar.isdigit():\n",
        "  cotacao_dolar = int(cotacao_dolar)\n",
        "  quantidade_compra = input(\"Quantos dólares deseja comprar? \")\n",
        "  if quantidade_compra.isdigit():\n",
        "    quantidade_compra = int(quantidade_compra)\n",
        "    valor_real = cotacao_dolar * quantidade_compra\n",
        "    print(\"O preço de {} dólares na cotação de hoje é de R$ {:.2f}\".format(quantidade_compra, valor_real))\n",
        "  else:\n",
        "    print(\"O valor informado para quantidade deve ser um número!\")\n",
        "else:\n",
        "  print(\"O valor da cotação deve ser numérico!\")"
      ],
      "metadata": {
        "colab": {
          "base_uri": "https://localhost:8080/"
        },
        "id": "MrA6gU50bzXD",
        "outputId": "d9e69565-7ed3-47e4-a764-63d1e572edec"
      },
      "execution_count": null,
      "outputs": [
        {
          "output_type": "stream",
          "name": "stdout",
          "text": [
            "Qual o valor da cotação do dólar no dia de hoje? 4.5\n",
            "O valor da cotação deve ser numérico!\n"
          ]
        }
      ]
    },
    {
      "cell_type": "code",
      "source": [
        "temp = '4.5'\n",
        "temp.replace('.', '').isdigit()"
      ],
      "metadata": {
        "colab": {
          "base_uri": "https://localhost:8080/"
        },
        "id": "u0Wobc69exri",
        "outputId": "6fce65da-5f59-4c45-887f-cc3d6c76bba4"
      },
      "execution_count": null,
      "outputs": [
        {
          "output_type": "execute_result",
          "data": {
            "text/plain": [
              "True"
            ]
          },
          "metadata": {},
          "execution_count": 35
        }
      ]
    },
    {
      "cell_type": "code",
      "source": [
        "cotacao_dolar = input(\"Qual o valor da cotação do dólar no dia de hoje? \")\n",
        "if cotacao_dolar.replace('.', '').isdigit():\n",
        "  cotacao_dolar = float(cotacao_dolar)\n",
        "  quantidade_compra = input(\"Quantos dólares deseja comprar? \")\n",
        "  if quantidade_compra.isdigit():\n",
        "    quantidade_compra = int(quantidade_compra)\n",
        "    valor_real = cotacao_dolar * quantidade_compra\n",
        "    print(\"O preço de {} dólares na cotação de hoje é de R$ {:.2f}\".format(quantidade_compra, valor_real))\n",
        "  else:\n",
        "    print(\"O valor informado para quantidade deve ser um número!\")\n",
        "else:\n",
        "  print(\"O valor da cotação deve ser um número real (use . para separador decimal)!\")"
      ],
      "metadata": {
        "colab": {
          "base_uri": "https://localhost:8080/"
        },
        "id": "5LYTj_bGe4-T",
        "outputId": "b4ebd538-6d0d-4435-9638-2d92e7b9d733"
      },
      "execution_count": null,
      "outputs": [
        {
          "output_type": "stream",
          "name": "stdout",
          "text": [
            "Qual o valor da cotação do dólar no dia de hoje? 4,5\n",
            "O valor da cotação deve ser um número real (use . para separador decimal)!\n"
          ]
        }
      ]
    },
    {
      "cell_type": "code",
      "source": [
        "cotacao_dolar = input(\"Qual o valor da cotação do dólar no dia de hoje? \")\n",
        "cotacao_dolar = cotacao_dolar.replace(',', '.')\n",
        "if cotacao_dolar.replace('.', '').isdigit() and cotacao_dolar[0] != '0':\n",
        "  cotacao_dolar = float(cotacao_dolar)\n",
        "  quantidade_compra = input(\"Quantos dólares deseja comprar? \")\n",
        "  if quantidade_compra.isdigit() and quantidade_compra[0] != '0':\n",
        "    quantidade_compra = int(quantidade_compra)\n",
        "    valor_real = cotacao_dolar * quantidade_compra\n",
        "    print(\"O preço de {} dólares na cotação de hoje é de R$ {:.2f}\".format(quantidade_compra, valor_real))\n",
        "  else:\n",
        "    print(\"O valor informado para quantidade deve ser um número maior que zero!\")\n",
        "else:\n",
        "  print(\"O valor da cotação deve ser um número real maior que zero!\")"
      ],
      "metadata": {
        "colab": {
          "base_uri": "https://localhost:8080/"
        },
        "id": "YqWzxXWlf4Bf",
        "outputId": "2b4b1c7a-b94b-4029-9f27-7d387cf58766"
      },
      "execution_count": null,
      "outputs": [
        {
          "output_type": "stream",
          "name": "stdout",
          "text": [
            "Qual o valor da cotação do dólar no dia de hoje? 4.5\n",
            "Quantos dólares deseja comprar? 0\n",
            "O valor informado para quantidade deve ser um número!\n"
          ]
        }
      ]
    },
    {
      "cell_type": "code",
      "source": [
        "True and True"
      ],
      "metadata": {
        "colab": {
          "base_uri": "https://localhost:8080/"
        },
        "id": "o4yCFoX3ikMX",
        "outputId": "52f49e95-13d9-4871-a8e4-a81d57729de9"
      },
      "execution_count": null,
      "outputs": [
        {
          "output_type": "execute_result",
          "data": {
            "text/plain": [
              "True"
            ]
          },
          "metadata": {},
          "execution_count": 45
        }
      ]
    },
    {
      "cell_type": "code",
      "source": [
        "True and False"
      ],
      "metadata": {
        "colab": {
          "base_uri": "https://localhost:8080/"
        },
        "id": "XcH_e-jvimj6",
        "outputId": "d72aee82-671b-4eb6-9f41-84b29dc80e04"
      },
      "execution_count": null,
      "outputs": [
        {
          "output_type": "execute_result",
          "data": {
            "text/plain": [
              "False"
            ]
          },
          "metadata": {},
          "execution_count": 46
        }
      ]
    },
    {
      "cell_type": "code",
      "source": [
        "True or True"
      ],
      "metadata": {
        "colab": {
          "base_uri": "https://localhost:8080/"
        },
        "id": "lqerrDUnio4H",
        "outputId": "a8835ffe-a558-421c-ecd7-244ef8434327"
      },
      "execution_count": null,
      "outputs": [
        {
          "output_type": "execute_result",
          "data": {
            "text/plain": [
              "True"
            ]
          },
          "metadata": {},
          "execution_count": 47
        }
      ]
    },
    {
      "cell_type": "code",
      "source": [
        "True or False"
      ],
      "metadata": {
        "colab": {
          "base_uri": "https://localhost:8080/"
        },
        "id": "p2w2jjpVi1DM",
        "outputId": "044bc4e1-3a42-4671-bdae-eb5ef336c472"
      },
      "execution_count": null,
      "outputs": [
        {
          "output_type": "execute_result",
          "data": {
            "text/plain": [
              "True"
            ]
          },
          "metadata": {},
          "execution_count": 48
        }
      ]
    },
    {
      "cell_type": "code",
      "source": [
        "False or False or True"
      ],
      "metadata": {
        "colab": {
          "base_uri": "https://localhost:8080/"
        },
        "id": "TRsNQChLi5eC",
        "outputId": "efef4e86-cf6c-4bec-dcec-5de5905a451d"
      },
      "execution_count": null,
      "outputs": [
        {
          "output_type": "execute_result",
          "data": {
            "text/plain": [
              "True"
            ]
          },
          "metadata": {},
          "execution_count": 49
        }
      ]
    },
    {
      "cell_type": "code",
      "source": [
        "nota = int(input(\"Digite a nota: \"))\n",
        "if nota >= 7 and nota <= 10:\n",
        "  print(\"Passou por média\")\n",
        "elif nota >= 5 and nota < 7:\n",
        "  print(\"Passou na final\")\n",
        "elif nota >= 0 and nota < 5:\n",
        "  print(\"Reprovou\")\n",
        "else:\n",
        "  print(\"Nota inválida!\")\n",
        "print(\"Até logo!\")"
      ],
      "metadata": {
        "colab": {
          "base_uri": "https://localhost:8080/"
        },
        "id": "tK__HQ1Ui-oY",
        "outputId": "2b2c44bd-1206-4b79-8e62-2e82d6d2e9b8"
      },
      "execution_count": null,
      "outputs": [
        {
          "output_type": "stream",
          "name": "stdout",
          "text": [
            "Digite a nota: 12\n",
            "Nota inválida!\n",
            "Até logo!\n"
          ]
        }
      ]
    },
    {
      "cell_type": "code",
      "source": [
        "nota = int(input(\"Digite a nota: \"))\n",
        "if 7 <= nota <= 10:\n",
        "  print(\"Passou por média\")\n",
        "elif 5 <= nota < 7:\n",
        "  print(\"Passou na final\")\n",
        "elif 0 <= nota < 5:\n",
        "  print(\"Reprovou\")\n",
        "else:\n",
        "  print(\"Nota inválida!\")\n",
        "print(\"Até logo!\")"
      ],
      "metadata": {
        "colab": {
          "base_uri": "https://localhost:8080/"
        },
        "id": "tGbLooFdjUW7",
        "outputId": "b4ff9b26-cb11-4105-9cf9-d824e2455659"
      },
      "execution_count": null,
      "outputs": [
        {
          "output_type": "stream",
          "name": "stdout",
          "text": [
            "Digite a nota: 8\n",
            "Passou por média\n",
            "Até logo!\n"
          ]
        }
      ]
    },
    {
      "cell_type": "code",
      "source": [
        "not True"
      ],
      "metadata": {
        "colab": {
          "base_uri": "https://localhost:8080/"
        },
        "id": "fII5WPxEmHbM",
        "outputId": "f737c222-e5cc-4540-b0e9-46a30d4241e1"
      },
      "execution_count": null,
      "outputs": [
        {
          "output_type": "execute_result",
          "data": {
            "text/plain": [
              "False"
            ]
          },
          "metadata": {},
          "execution_count": 63
        }
      ]
    },
    {
      "cell_type": "code",
      "source": [
        "not False"
      ],
      "metadata": {
        "colab": {
          "base_uri": "https://localhost:8080/"
        },
        "id": "AT49QjW0mJq8",
        "outputId": "4b2b14e3-a6b9-4dde-9693-4e445e0a8124"
      },
      "execution_count": null,
      "outputs": [
        {
          "output_type": "execute_result",
          "data": {
            "text/plain": [
              "True"
            ]
          },
          "metadata": {},
          "execution_count": 64
        }
      ]
    },
    {
      "cell_type": "code",
      "source": [
        "True or False"
      ],
      "metadata": {
        "colab": {
          "base_uri": "https://localhost:8080/"
        },
        "id": "KGvo-E2VmMn4",
        "outputId": "dc6d3e41-e2a2-42d1-8720-82286b8ec12f"
      },
      "execution_count": null,
      "outputs": [
        {
          "output_type": "execute_result",
          "data": {
            "text/plain": [
              "True"
            ]
          },
          "metadata": {},
          "execution_count": 65
        }
      ]
    },
    {
      "cell_type": "code",
      "source": [
        "not (True or False)"
      ],
      "metadata": {
        "colab": {
          "base_uri": "https://localhost:8080/"
        },
        "id": "aJgGkGbHmXOI",
        "outputId": "9d5aa8ca-b460-4890-84ef-e4c1e73b983a"
      },
      "execution_count": null,
      "outputs": [
        {
          "output_type": "execute_result",
          "data": {
            "text/plain": [
              "False"
            ]
          },
          "metadata": {},
          "execution_count": 66
        }
      ]
    },
    {
      "cell_type": "code",
      "source": [
        "not True and not False"
      ],
      "metadata": {
        "colab": {
          "base_uri": "https://localhost:8080/"
        },
        "id": "UTfQnxR9mbqY",
        "outputId": "bca305ca-313c-42b6-f738-481db5e4f372"
      },
      "execution_count": null,
      "outputs": [
        {
          "output_type": "execute_result",
          "data": {
            "text/plain": [
              "False"
            ]
          },
          "metadata": {},
          "execution_count": 67
        }
      ]
    },
    {
      "cell_type": "markdown",
      "source": [
        "Trabalhando com instruções de repetição (loops)"
      ],
      "metadata": {
        "id": "9cDX4XOenJRH"
      }
    },
    {
      "cell_type": "code",
      "source": [
        "while True:\n",
        "  cotacao_dolar = input(\"Qual o valor da cotação do dólar no dia de hoje? \")\n",
        "  cotacao_dolar = cotacao_dolar.replace(',', '.')\n",
        "  if cotacao_dolar.replace('.', '').isdigit() and cotacao_dolar[0] != '0':\n",
        "    cotacao_dolar = float(cotacao_dolar)\n",
        "    quantidade_compra = input(\"Quantos dólares deseja comprar? \")\n",
        "    if quantidade_compra.isdigit() and quantidade_compra[0] != '0':\n",
        "      quantidade_compra = int(quantidade_compra)\n",
        "      valor_real = cotacao_dolar * quantidade_compra\n",
        "      print(\"O preço de {} dólares na cotação de hoje é de R$ {:.2f}\".format(quantidade_compra, valor_real))\n",
        "    else:\n",
        "      print(\"O valor informado para quantidade deve ser um número maior que zero!\")\n",
        "  else:\n",
        "    print(\"O valor da cotação deve ser um número real maior que zero!\")"
      ],
      "metadata": {
        "colab": {
          "base_uri": "https://localhost:8080/",
          "height": 530
        },
        "id": "ZXqCIg_DmfA9",
        "outputId": "45e3f711-856e-407a-f262-c27174a05dc1"
      },
      "execution_count": null,
      "outputs": [
        {
          "output_type": "stream",
          "name": "stdout",
          "text": [
            "Qual o valor da cotação do dólar no dia de hoje? quatro\n",
            "O valor da cotação deve ser um número real maior que zero!\n",
            "Qual o valor da cotação do dólar no dia de hoje? 4\n",
            "Quantos dólares deseja comprar? dez\n",
            "O valor informado para quantidade deve ser um número maior que zero!\n",
            "Qual o valor da cotação do dólar no dia de hoje? 4\n",
            "Quantos dólares deseja comprar? 10\n",
            "O preço de 10 dólares na cotação de hoje é de R$ 40.00\n"
          ]
        },
        {
          "output_type": "error",
          "ename": "KeyboardInterrupt",
          "evalue": "ignored",
          "traceback": [
            "\u001b[0;31m---------------------------------------------------------------------------\u001b[0m",
            "\u001b[0;31mKeyboardInterrupt\u001b[0m                         Traceback (most recent call last)",
            "\u001b[0;32m<ipython-input-69-d60ef43e6762>\u001b[0m in \u001b[0;36m<cell line: 1>\u001b[0;34m()\u001b[0m\n\u001b[1;32m      1\u001b[0m \u001b[0;32mwhile\u001b[0m \u001b[0;32mTrue\u001b[0m\u001b[0;34m:\u001b[0m\u001b[0;34m\u001b[0m\u001b[0;34m\u001b[0m\u001b[0m\n\u001b[0;32m----> 2\u001b[0;31m   \u001b[0mcotacao_dolar\u001b[0m \u001b[0;34m=\u001b[0m \u001b[0minput\u001b[0m\u001b[0;34m(\u001b[0m\u001b[0;34m\"Qual o valor da cotação do dólar no dia de hoje? \"\u001b[0m\u001b[0;34m)\u001b[0m\u001b[0;34m\u001b[0m\u001b[0;34m\u001b[0m\u001b[0m\n\u001b[0m\u001b[1;32m      3\u001b[0m   \u001b[0mcotacao_dolar\u001b[0m \u001b[0;34m=\u001b[0m \u001b[0mcotacao_dolar\u001b[0m\u001b[0;34m.\u001b[0m\u001b[0mreplace\u001b[0m\u001b[0;34m(\u001b[0m\u001b[0;34m','\u001b[0m\u001b[0;34m,\u001b[0m \u001b[0;34m'.'\u001b[0m\u001b[0;34m)\u001b[0m\u001b[0;34m\u001b[0m\u001b[0;34m\u001b[0m\u001b[0m\n\u001b[1;32m      4\u001b[0m   \u001b[0;32mif\u001b[0m \u001b[0mcotacao_dolar\u001b[0m\u001b[0;34m.\u001b[0m\u001b[0mreplace\u001b[0m\u001b[0;34m(\u001b[0m\u001b[0;34m'.'\u001b[0m\u001b[0;34m,\u001b[0m \u001b[0;34m''\u001b[0m\u001b[0;34m)\u001b[0m\u001b[0;34m.\u001b[0m\u001b[0misdigit\u001b[0m\u001b[0;34m(\u001b[0m\u001b[0;34m)\u001b[0m \u001b[0;32mand\u001b[0m \u001b[0mcotacao_dolar\u001b[0m\u001b[0;34m[\u001b[0m\u001b[0;36m0\u001b[0m\u001b[0;34m]\u001b[0m \u001b[0;34m!=\u001b[0m \u001b[0;34m'0'\u001b[0m\u001b[0;34m:\u001b[0m\u001b[0;34m\u001b[0m\u001b[0;34m\u001b[0m\u001b[0m\n\u001b[1;32m      5\u001b[0m     \u001b[0mcotacao_dolar\u001b[0m \u001b[0;34m=\u001b[0m \u001b[0mfloat\u001b[0m\u001b[0;34m(\u001b[0m\u001b[0mcotacao_dolar\u001b[0m\u001b[0;34m)\u001b[0m\u001b[0;34m\u001b[0m\u001b[0;34m\u001b[0m\u001b[0m\n",
            "\u001b[0;32m/usr/local/lib/python3.10/dist-packages/ipykernel/kernelbase.py\u001b[0m in \u001b[0;36mraw_input\u001b[0;34m(self, prompt)\u001b[0m\n\u001b[1;32m    849\u001b[0m                 \u001b[0;34m\"raw_input was called, but this frontend does not support input requests.\"\u001b[0m\u001b[0;34m\u001b[0m\u001b[0;34m\u001b[0m\u001b[0m\n\u001b[1;32m    850\u001b[0m             )\n\u001b[0;32m--> 851\u001b[0;31m         return self._input_request(str(prompt),\n\u001b[0m\u001b[1;32m    852\u001b[0m             \u001b[0mself\u001b[0m\u001b[0;34m.\u001b[0m\u001b[0m_parent_ident\u001b[0m\u001b[0;34m,\u001b[0m\u001b[0;34m\u001b[0m\u001b[0;34m\u001b[0m\u001b[0m\n\u001b[1;32m    853\u001b[0m             \u001b[0mself\u001b[0m\u001b[0;34m.\u001b[0m\u001b[0m_parent_header\u001b[0m\u001b[0;34m,\u001b[0m\u001b[0;34m\u001b[0m\u001b[0;34m\u001b[0m\u001b[0m\n",
            "\u001b[0;32m/usr/local/lib/python3.10/dist-packages/ipykernel/kernelbase.py\u001b[0m in \u001b[0;36m_input_request\u001b[0;34m(self, prompt, ident, parent, password)\u001b[0m\n\u001b[1;32m    893\u001b[0m             \u001b[0;32mexcept\u001b[0m \u001b[0mKeyboardInterrupt\u001b[0m\u001b[0;34m:\u001b[0m\u001b[0;34m\u001b[0m\u001b[0;34m\u001b[0m\u001b[0m\n\u001b[1;32m    894\u001b[0m                 \u001b[0;31m# re-raise KeyboardInterrupt, to truncate traceback\u001b[0m\u001b[0;34m\u001b[0m\u001b[0;34m\u001b[0m\u001b[0m\n\u001b[0;32m--> 895\u001b[0;31m                 \u001b[0;32mraise\u001b[0m \u001b[0mKeyboardInterrupt\u001b[0m\u001b[0;34m(\u001b[0m\u001b[0;34m\"Interrupted by user\"\u001b[0m\u001b[0;34m)\u001b[0m \u001b[0;32mfrom\u001b[0m \u001b[0;32mNone\u001b[0m\u001b[0;34m\u001b[0m\u001b[0;34m\u001b[0m\u001b[0m\n\u001b[0m\u001b[1;32m    896\u001b[0m             \u001b[0;32mexcept\u001b[0m \u001b[0mException\u001b[0m \u001b[0;32mas\u001b[0m \u001b[0me\u001b[0m\u001b[0;34m:\u001b[0m\u001b[0;34m\u001b[0m\u001b[0;34m\u001b[0m\u001b[0m\n\u001b[1;32m    897\u001b[0m                 \u001b[0mself\u001b[0m\u001b[0;34m.\u001b[0m\u001b[0mlog\u001b[0m\u001b[0;34m.\u001b[0m\u001b[0mwarning\u001b[0m\u001b[0;34m(\u001b[0m\u001b[0;34m\"Invalid Message:\"\u001b[0m\u001b[0;34m,\u001b[0m \u001b[0mexc_info\u001b[0m\u001b[0;34m=\u001b[0m\u001b[0;32mTrue\u001b[0m\u001b[0;34m)\u001b[0m\u001b[0;34m\u001b[0m\u001b[0;34m\u001b[0m\u001b[0m\n",
            "\u001b[0;31mKeyboardInterrupt\u001b[0m: Interrupted by user"
          ]
        }
      ]
    },
    {
      "cell_type": "code",
      "source": [
        "while True:\n",
        "  cotacao_dolar = input(\"Qual o valor da cotação do dólar no dia de hoje? \")\n",
        "  cotacao_dolar = cotacao_dolar.replace(',', '.')\n",
        "  if cotacao_dolar.replace('.', '').isdigit() and cotacao_dolar[0] != '0':\n",
        "    cotacao_dolar = float(cotacao_dolar)\n",
        "    break\n",
        "  else:\n",
        "    print(\"O valor da cotação deve ser um número real maior que zero!\")\n",
        "\n",
        "while True:\n",
        "  quantidade_compra = input(\"Quantos dólares deseja comprar? \")\n",
        "  if quantidade_compra.isdigit() and quantidade_compra[0] != '0':\n",
        "    quantidade_compra = int(quantidade_compra)\n",
        "    break\n",
        "  else:\n",
        "    print(\"O valor informado para quantidade deve ser um número maior que zero!\")\n",
        "\n",
        "valor_real = cotacao_dolar * quantidade_compra\n",
        "print(\"O preço de {} dólares na cotação de hoje é de R$ {:.2f}\".format(quantidade_compra, valor_real))"
      ],
      "metadata": {
        "colab": {
          "base_uri": "https://localhost:8080/"
        },
        "id": "RnzLP7eMnPc-",
        "outputId": "db8e5997-f1d2-4d08-8721-64ca93c58ef2"
      },
      "execution_count": null,
      "outputs": [
        {
          "output_type": "stream",
          "name": "stdout",
          "text": [
            "Qual o valor da cotação do dólar no dia de hoje? 4.5\n",
            "Quantos dólares deseja comprar? cinco\n",
            "O valor informado para quantidade deve ser um número maior que zero!\n",
            "Quantos dólares deseja comprar? -3\n",
            "O valor informado para quantidade deve ser um número maior que zero!\n",
            "Quantos dólares deseja comprar? 100\n",
            "O preço de 100 dólares na cotação de hoje é de R$ 450.00\n"
          ]
        }
      ]
    },
    {
      "cell_type": "code",
      "source": [
        "flag = True\n",
        "while flag:\n",
        "  cotacao_dolar = input(\"Qual o valor da cotação do dólar no dia de hoje? \")\n",
        "  cotacao_dolar = cotacao_dolar.replace(',', '.')\n",
        "  if cotacao_dolar.replace('.', '').isdigit() and cotacao_dolar[0] != '0':\n",
        "    cotacao_dolar = float(cotacao_dolar)\n",
        "    flag = False\n",
        "  else:\n",
        "    print(\"O valor da cotação deve ser um número real maior que zero!\")\n",
        "\n",
        "flag = True\n",
        "while flag:\n",
        "  quantidade_compra = input(\"Quantos dólares deseja comprar? \")\n",
        "  if quantidade_compra.isdigit() and quantidade_compra[0] != '0':\n",
        "    quantidade_compra = int(quantidade_compra)\n",
        "    flag = False\n",
        "  else:\n",
        "    print(\"O valor informado para quantidade deve ser um número maior que zero!\")\n",
        "\n",
        "valor_real = cotacao_dolar * quantidade_compra\n",
        "print(\"O preço de {} dólares na cotação de hoje é de R$ {:.2f}\".format(quantidade_compra, valor_real))"
      ],
      "metadata": {
        "colab": {
          "base_uri": "https://localhost:8080/"
        },
        "id": "sEr7AOfMpnV_",
        "outputId": "72c53521-d4d3-4013-a1c4-ab5e6c017285"
      },
      "execution_count": null,
      "outputs": [
        {
          "output_type": "stream",
          "name": "stdout",
          "text": [
            "Qual o valor da cotação do dólar no dia de hoje? aass\n",
            "O valor da cotação deve ser um número real maior que zero!\n",
            "Qual o valor da cotação do dólar no dia de hoje? 3.5\n",
            "Quantos dólares deseja comprar? 20\n",
            "O preço de 20 dólares na cotação de hoje é de R$ 70.00\n"
          ]
        }
      ]
    },
    {
      "cell_type": "code",
      "source": [
        "contador = 1\n",
        "while contador <= 10:\n",
        "  print(contador)\n",
        "  contador = contador + 1"
      ],
      "metadata": {
        "colab": {
          "base_uri": "https://localhost:8080/"
        },
        "id": "NyTxdkn3qJzE",
        "outputId": "ce9fe3f4-eafd-4226-f3df-5dbaef450e3d"
      },
      "execution_count": null,
      "outputs": [
        {
          "output_type": "stream",
          "name": "stdout",
          "text": [
            "1\n",
            "2\n",
            "3\n",
            "4\n",
            "5\n",
            "6\n",
            "7\n",
            "8\n",
            "9\n",
            "10\n"
          ]
        }
      ]
    },
    {
      "cell_type": "code",
      "source": [
        "for contador in range(1, 11):\n",
        "  print(contador)"
      ],
      "metadata": {
        "colab": {
          "base_uri": "https://localhost:8080/"
        },
        "id": "ZVwNonzXqXUO",
        "outputId": "c04e8830-3cba-4b9a-d1e5-3ae7af8cc1ac"
      },
      "execution_count": null,
      "outputs": [
        {
          "output_type": "stream",
          "name": "stdout",
          "text": [
            "1\n",
            "2\n",
            "3\n",
            "4\n",
            "5\n",
            "6\n",
            "7\n",
            "8\n",
            "9\n",
            "10\n"
          ]
        }
      ]
    },
    {
      "cell_type": "code",
      "source": [
        "for contador in range(1, 11):\n",
        "  if contador == 7:\n",
        "    break\n",
        "  print(contador)\n"
      ],
      "metadata": {
        "colab": {
          "base_uri": "https://localhost:8080/"
        },
        "id": "KghiMGNkqwHq",
        "outputId": "f08cb003-71d8-450d-9c43-7cad42f61b8c"
      },
      "execution_count": null,
      "outputs": [
        {
          "output_type": "stream",
          "name": "stdout",
          "text": [
            "1\n",
            "2\n",
            "3\n",
            "4\n",
            "5\n",
            "6\n"
          ]
        }
      ]
    },
    {
      "cell_type": "code",
      "source": [
        "for contador in range(1, 11):\n",
        "  if contador == 7:\n",
        "    continue\n",
        "  print(contador)"
      ],
      "metadata": {
        "colab": {
          "base_uri": "https://localhost:8080/"
        },
        "id": "WOZM2lIOrK2o",
        "outputId": "a2e57e16-be12-475a-abd4-c68470180773"
      },
      "execution_count": null,
      "outputs": [
        {
          "output_type": "stream",
          "name": "stdout",
          "text": [
            "1\n",
            "2\n",
            "3\n",
            "4\n",
            "5\n",
            "6\n",
            "8\n",
            "9\n",
            "10\n"
          ]
        }
      ]
    },
    {
      "cell_type": "code",
      "source": [
        "for contador in range(1, 11):\n",
        "  if contador == 7:\n",
        "    pass\n",
        "  print(contador)"
      ],
      "metadata": {
        "colab": {
          "base_uri": "https://localhost:8080/"
        },
        "id": "SafYCD8YrgPx",
        "outputId": "9b9a4e6e-0815-446f-c2b7-2b006e56adcf"
      },
      "execution_count": null,
      "outputs": [
        {
          "output_type": "stream",
          "name": "stdout",
          "text": [
            "1\n",
            "2\n",
            "3\n",
            "4\n",
            "5\n",
            "6\n",
            "7\n",
            "8\n",
            "9\n",
            "10\n"
          ]
        }
      ]
    },
    {
      "cell_type": "code",
      "source": [
        "import math\n",
        "math.log2(1000000)"
      ],
      "metadata": {
        "colab": {
          "base_uri": "https://localhost:8080/"
        },
        "id": "OVKJmkexrwWU",
        "outputId": "e3a99da9-ed0a-474e-d2b4-92a6e9a9e31c"
      },
      "execution_count": null,
      "outputs": [
        {
          "output_type": "execute_result",
          "data": {
            "text/plain": [
              "19.931568569324174"
            ]
          },
          "metadata": {},
          "execution_count": 85
        }
      ]
    },
    {
      "cell_type": "markdown",
      "source": [
        "Exercício do jogo de adivinhação"
      ],
      "metadata": {
        "id": "3x7A3HQi333k"
      }
    },
    {
      "cell_type": "code",
      "source": [
        "tentativas = 0\n",
        "esq = 1\n",
        "dir = 100\n",
        "print(\"Pense em um número de {} a {}. Eu vou tentar adivinhar este número!\".format(esq, dir))\n",
        "while True:\n",
        "  meio = (esq + dir) // 2\n",
        "  resposta = input(\"O número que você pensou é {}? (S/N)\".format(meio))\n",
        "  tentativas += 1\n",
        "  if resposta == 'S' or resposta == 's':\n",
        "    print(\"Encontrei o número em {} tentativas!\".format(tentativas))\n",
        "    break\n",
        "  elif esq == dir:\n",
        "    print(\"O número que você pensou está fora do intervalo combinado!\")\n",
        "    break\n",
        "  else:\n",
        "    resposta = input(\"Indique < caso o número que você pensou seja menor que {}, ou > caso contrário: \".format(meio))\n",
        "    if resposta == '<':\n",
        "      dir = meio - 1\n",
        "    else:\n",
        "      esq = meio + 1"
      ],
      "metadata": {
        "colab": {
          "base_uri": "https://localhost:8080/"
        },
        "id": "pgHKKqjkvW7F",
        "outputId": "0665cda0-267f-466a-f9ce-2344f232b10c"
      },
      "execution_count": null,
      "outputs": [
        {
          "output_type": "stream",
          "name": "stdout",
          "text": [
            "Pense em um número de 1 a 10. Eu vou tentar adivinhar este número!\n",
            "O número que você pensou é 5? (S/N)n\n",
            "Indique < caso o número que você pensou seja menor que 5, ou > caso contrário: >\n",
            "O número que você pensou é 8? (S/N)n\n",
            "Indique < caso o número que você pensou seja menor que 8, ou > caso contrário: >\n",
            "O número que você pensou é 9? (S/N)n\n",
            "Indique < caso o número que você pensou seja menor que 9, ou > caso contrário: >\n",
            "O número que você pensou é 10? (S/N)n\n",
            "O número que você pensou está fora do intervalo combinado!\n"
          ]
        }
      ]
    },
    {
      "cell_type": "markdown",
      "source": [
        "Trabalhando com listas"
      ],
      "metadata": {
        "id": "GdrjnPaf9J8D"
      }
    },
    {
      "cell_type": "code",
      "source": [
        "nomes = ['João', 'Caio', 'Alexsandro', 'Ricardo']"
      ],
      "metadata": {
        "id": "DhMHs_EZ7hOZ"
      },
      "execution_count": null,
      "outputs": []
    },
    {
      "cell_type": "code",
      "source": [
        "nomes.sort()"
      ],
      "metadata": {
        "id": "xyQa6rjk9X2p"
      },
      "execution_count": null,
      "outputs": []
    },
    {
      "cell_type": "code",
      "source": [
        "nomes"
      ],
      "metadata": {
        "colab": {
          "base_uri": "https://localhost:8080/"
        },
        "id": "BBOIsl7n9jcl",
        "outputId": "fecdb7cb-85a1-42c8-dcf4-92f523033fd1"
      },
      "execution_count": null,
      "outputs": [
        {
          "output_type": "execute_result",
          "data": {
            "text/plain": [
              "['Alexsandro', 'Caio', 'João', 'Ricardo']"
            ]
          },
          "metadata": {},
          "execution_count": 98
        }
      ]
    },
    {
      "cell_type": "code",
      "source": [
        "emails = ['joao@upe.br', 'caio@upe.br', 'alex@upe.br', 'ricardo@upe.br']"
      ],
      "metadata": {
        "id": "rh1mPDhz9kgm"
      },
      "execution_count": null,
      "outputs": []
    },
    {
      "cell_type": "code",
      "source": [
        "emails"
      ],
      "metadata": {
        "colab": {
          "base_uri": "https://localhost:8080/"
        },
        "id": "B9q-r3Yy95E_",
        "outputId": "9f5e0035-ee91-4e83-d13b-383fdaa851a0"
      },
      "execution_count": null,
      "outputs": [
        {
          "output_type": "execute_result",
          "data": {
            "text/plain": [
              "['joao@upe.br', 'caio@upe.br', 'alex@upe.br', 'ricardo@upe.br']"
            ]
          },
          "metadata": {},
          "execution_count": 100
        }
      ]
    },
    {
      "cell_type": "code",
      "source": [
        "len(nomes)"
      ],
      "metadata": {
        "colab": {
          "base_uri": "https://localhost:8080/"
        },
        "id": "3puoCY2d96J_",
        "outputId": "bd125633-a36d-4eea-fe12-acdebba55fd7"
      },
      "execution_count": null,
      "outputs": [
        {
          "output_type": "execute_result",
          "data": {
            "text/plain": [
              "4"
            ]
          },
          "metadata": {},
          "execution_count": 101
        }
      ]
    },
    {
      "cell_type": "code",
      "source": [
        "contador = 0\n",
        "while contador < len(nomes):\n",
        "  print('{}) {} - {}'.format(contador+1, nomes[contador], emails[contador]))\n",
        "  contador += 1"
      ],
      "metadata": {
        "colab": {
          "base_uri": "https://localhost:8080/"
        },
        "id": "_dJMsZeH9-aN",
        "outputId": "3b06721e-8ff6-4441-cd0f-77075c9fd222"
      },
      "execution_count": null,
      "outputs": [
        {
          "output_type": "stream",
          "name": "stdout",
          "text": [
            "1) Alexsandro - joao@upe.br\n",
            "2) Caio - caio@upe.br\n",
            "3) João - alex@upe.br\n",
            "4) Ricardo - ricardo@upe.br\n"
          ]
        }
      ]
    },
    {
      "cell_type": "code",
      "source": [
        "for nome in nomes:\n",
        "  print(nome)"
      ],
      "metadata": {
        "colab": {
          "base_uri": "https://localhost:8080/"
        },
        "id": "4866Yx_l-Z_p",
        "outputId": "da320d2e-a318-434e-d145-17afbbb483c3"
      },
      "execution_count": null,
      "outputs": [
        {
          "output_type": "stream",
          "name": "stdout",
          "text": [
            "Alexsandro\n",
            "Caio\n",
            "João\n",
            "Ricardo\n"
          ]
        }
      ]
    },
    {
      "cell_type": "code",
      "source": [
        "alunos = list(zip(nomes, emails))"
      ],
      "metadata": {
        "id": "ZibhrU58-8p4"
      },
      "execution_count": null,
      "outputs": []
    },
    {
      "cell_type": "code",
      "source": [
        "alunos"
      ],
      "metadata": {
        "colab": {
          "base_uri": "https://localhost:8080/"
        },
        "id": "39UsbsNs_J0s",
        "outputId": "4cf4ec87-6e94-4da9-97e8-20d8e74630ae"
      },
      "execution_count": null,
      "outputs": [
        {
          "output_type": "execute_result",
          "data": {
            "text/plain": [
              "[('Alexsandro', 'joao@upe.br'),\n",
              " ('Caio', 'caio@upe.br'),\n",
              " ('João', 'alex@upe.br'),\n",
              " ('Ricardo', 'ricardo@upe.br')]"
            ]
          },
          "metadata": {},
          "execution_count": 119
        }
      ]
    },
    {
      "cell_type": "code",
      "source": [
        "for nome, email in alunos:\n",
        "  print(\"{} - {}\".format(nome, email))"
      ],
      "metadata": {
        "colab": {
          "base_uri": "https://localhost:8080/"
        },
        "id": "x5qwBGEl_LOn",
        "outputId": "6fb9ff25-94bd-4a47-f39d-669819b3ddaf"
      },
      "execution_count": null,
      "outputs": [
        {
          "output_type": "stream",
          "name": "stdout",
          "text": [
            "Alexsandro - joao@upe.br\n",
            "Caio - caio@upe.br\n",
            "João - alex@upe.br\n",
            "Ricardo - ricardo@upe.br\n"
          ]
        }
      ]
    },
    {
      "cell_type": "code",
      "source": [
        "nome = input(\"Digite o nome do aluno: \")\n",
        "email = input(\"Digire o email do aluno: \")\n",
        "if (nome, email) in alunos:\n",
        "  print(\"Aluno já existe na lista!\")\n",
        "else:\n",
        "  alunos.append((nome, email))"
      ],
      "metadata": {
        "colab": {
          "base_uri": "https://localhost:8080/"
        },
        "id": "bX_MOCXo_7eQ",
        "outputId": "2ff4a2a2-37f5-44d4-c4f3-504884b156b1"
      },
      "execution_count": null,
      "outputs": [
        {
          "output_type": "stream",
          "name": "stdout",
          "text": [
            "Digite o nome do aluno: João\n",
            "Digire o email do aluno: alex@upe.br\n",
            "Aluno já existe na lista!\n"
          ]
        }
      ]
    },
    {
      "cell_type": "code",
      "source": [
        "alunos"
      ],
      "metadata": {
        "colab": {
          "base_uri": "https://localhost:8080/"
        },
        "id": "xo0-YHgtAfEE",
        "outputId": "53d87812-29e0-49e6-df9c-3e7dc8cc73e6"
      },
      "execution_count": null,
      "outputs": [
        {
          "output_type": "execute_result",
          "data": {
            "text/plain": [
              "[('Alexsandro', 'joao@upe.br'),\n",
              " ('Caio', 'caio@upe.br'),\n",
              " ('João', 'alex@upe.br'),\n",
              " ('Ricardo', 'ricardo@upe.br'),\n",
              " ('Caio', 'caio@upe.be')]"
            ]
          },
          "metadata": {},
          "execution_count": 121
        }
      ]
    },
    {
      "cell_type": "code",
      "source": [
        "alunos = [['Alexsandro', 'Caio', 'João', 'Ricardo'],\n",
        "          ['alex@upe.br', 'caio@upe.br', 'joao@upe.br', 'ricardo@upe.br']]"
      ],
      "metadata": {
        "id": "gbFmunf7Ai0E"
      },
      "execution_count": null,
      "outputs": []
    },
    {
      "cell_type": "code",
      "source": [
        "alunos"
      ],
      "metadata": {
        "colab": {
          "base_uri": "https://localhost:8080/"
        },
        "id": "_lQVjjrNBlOB",
        "outputId": "1df5f00f-b50e-4813-d920-513590c4a8f2"
      },
      "execution_count": null,
      "outputs": [
        {
          "output_type": "execute_result",
          "data": {
            "text/plain": [
              "[['Alexsandro', 'Caio', 'João', 'Ricardo'],\n",
              " ['alex@upe.br', 'caio@upe.br', 'joao@upe.br', 'ricardo@upe.br']]"
            ]
          },
          "metadata": {},
          "execution_count": 126
        }
      ]
    },
    {
      "cell_type": "code",
      "source": [
        "nome = input(\"Digite o nome do aluno: \")\n",
        "email = input(\"Digire o email do aluno: \")\n",
        "if nome in alunos[0]:\n",
        "  print(\"Aluno já existe na lista!\")\n",
        "else:\n",
        "  alunos[0].append(nome)\n",
        "  alunos[1].append(email)"
      ],
      "metadata": {
        "colab": {
          "base_uri": "https://localhost:8080/"
        },
        "id": "JI66PCTcBmR4",
        "outputId": "a898e654-7311-4c29-8890-f2da232e1f08"
      },
      "execution_count": null,
      "outputs": [
        {
          "output_type": "stream",
          "name": "stdout",
          "text": [
            "Digite o nome do aluno: Caio\n",
            "Digire o email do aluno: caio@upe\n",
            "Aluno já existe na lista!\n"
          ]
        }
      ]
    },
    {
      "cell_type": "code",
      "source": [
        "alunos"
      ],
      "metadata": {
        "colab": {
          "base_uri": "https://localhost:8080/"
        },
        "id": "0vHQuD3dCYF1",
        "outputId": "946d9f40-1f6a-47fb-9484-05a71be6077e"
      },
      "execution_count": null,
      "outputs": [
        {
          "output_type": "execute_result",
          "data": {
            "text/plain": [
              "[['Alexsandro', 'Caio', 'João', 'Ricardo', 'Ana'],\n",
              " ['alex@upe.br', 'caio@upe.br', 'joao@upe.br', 'ricardo@upe.br', 'ana@upe.br']]"
            ]
          },
          "metadata": {},
          "execution_count": 129
        }
      ]
    },
    {
      "cell_type": "code",
      "source": [
        "alunos[0].index('Caio')"
      ],
      "metadata": {
        "colab": {
          "base_uri": "https://localhost:8080/"
        },
        "id": "m0MnMahxDBEZ",
        "outputId": "96efd425-eade-4221-9ae9-68b82c9f9f5a"
      },
      "execution_count": null,
      "outputs": [
        {
          "output_type": "execute_result",
          "data": {
            "text/plain": [
              "1"
            ]
          },
          "metadata": {},
          "execution_count": 132
        }
      ]
    },
    {
      "cell_type": "code",
      "source": [
        "nome = input(\"Digite o nome do aluno para remover da lista: \")\n",
        "indice = alunos[0].index(nome)\n",
        "if indice >= 0:\n",
        "  del alunos[0][indice]\n",
        "  del alunos[1][indice]\n",
        "  print(\"Aluno removido da lista\")\n",
        "else:\n",
        "  print(\"Aluno não encontrado na lista!\")"
      ],
      "metadata": {
        "colab": {
          "base_uri": "https://localhost:8080/"
        },
        "id": "qbTF2pwKCbXA",
        "outputId": "3f3ec513-6639-4465-ddb3-85aaaebea90e"
      },
      "execution_count": null,
      "outputs": [
        {
          "output_type": "stream",
          "name": "stdout",
          "text": [
            "Digite o nome do aluno para remover da lista: Caio\n",
            "Aluno removido da lista\n"
          ]
        }
      ]
    },
    {
      "cell_type": "code",
      "source": [
        "alunos"
      ],
      "metadata": {
        "colab": {
          "base_uri": "https://localhost:8080/"
        },
        "id": "qlLDs4tsDoPk",
        "outputId": "66162924-dc4f-4c8a-95f7-d5808e5cbbab"
      },
      "execution_count": null,
      "outputs": [
        {
          "output_type": "execute_result",
          "data": {
            "text/plain": [
              "[['Alexsandro', 'João', 'Ricardo', 'Ana'],\n",
              " ['alex@upe.br', 'joao@upe.br', 'ricardo@upe.br', 'ana@upe.br']]"
            ]
          },
          "metadata": {},
          "execution_count": 134
        }
      ]
    },
    {
      "cell_type": "code",
      "source": [
        "alunos = [[], []]"
      ],
      "metadata": {
        "id": "t6dTODkcFCrz"
      },
      "execution_count": null,
      "outputs": []
    },
    {
      "cell_type": "code",
      "source": [
        "while True:\n",
        "  print(\"\\n--------------------------------------\")\n",
        "  print(\"1) Inserir novo aluno\")\n",
        "  print(\"2) Remover aluno\")\n",
        "  print(\"3) Listar todos os alunos\")\n",
        "  print(\"4) Sair\")\n",
        "  resposta = input(\"Indique a opção desejada: \")\n",
        "  print(\"--------------------------------------\\n\")\n",
        "  if resposta == '1':\n",
        "    nome = input(\"Digite o nome do aluno: \")\n",
        "    email = input(\"Digire o email do aluno: \")\n",
        "    if nome in alunos[0]:\n",
        "      print(\"Aluno já existe na lista!\")\n",
        "    else:\n",
        "      alunos[0].append(nome)\n",
        "      alunos[1].append(email)\n",
        "  elif resposta == '2':\n",
        "    nome = input(\"Digite o nome do aluno para remover da lista: \")\n",
        "    indice = alunos[0].index(nome)\n",
        "    if indice >= 0:\n",
        "      del alunos[0][indice]\n",
        "      del alunos[1][indice]\n",
        "      print(\"Aluno removido da lista\")\n",
        "    else:\n",
        "      print(\"Aluno não encontrado na lista!\")\n",
        "  elif resposta == '3':\n",
        "    contador = 0\n",
        "    while contador < len(alunos[0]):\n",
        "      print('{}) {} - {}'.format(contador+1, alunos[0][contador], alunos[1][contador]))\n",
        "      contador += 1\n",
        "  else:\n",
        "    break"
      ],
      "metadata": {
        "colab": {
          "base_uri": "https://localhost:8080/"
        },
        "id": "wPG55xUBDrHX",
        "outputId": "2b819d4b-87f1-4dba-896d-e9633e555d9d"
      },
      "execution_count": null,
      "outputs": [
        {
          "output_type": "stream",
          "name": "stdout",
          "text": [
            "\n",
            "--------------------------------------\n",
            "1) Inserir novo aluno\n",
            "2) Remover aluno\n",
            "3) Listar todos os alunos\n",
            "4) Sair\n",
            "Indique a opção desejada: 3\n",
            "--------------------------------------\n",
            "\n",
            "1) Ana - ana@upe.br\n",
            "2) Bruno - bruno@upe.br\n",
            "\n",
            "--------------------------------------\n",
            "1) Inserir novo aluno\n",
            "2) Remover aluno\n",
            "3) Listar todos os alunos\n",
            "4) Sair\n",
            "Indique a opção desejada: 2\n",
            "--------------------------------------\n",
            "\n",
            "Digite o nome do aluno para remover da lista: Bruno\n",
            "Aluno removido da lista\n",
            "\n",
            "--------------------------------------\n",
            "1) Inserir novo aluno\n",
            "2) Remover aluno\n",
            "3) Listar todos os alunos\n",
            "4) Sair\n",
            "Indique a opção desejada: 3\n",
            "--------------------------------------\n",
            "\n",
            "1) Ana - ana@upe.br\n",
            "\n",
            "--------------------------------------\n",
            "1) Inserir novo aluno\n",
            "2) Remover aluno\n",
            "3) Listar todos os alunos\n",
            "4) Sair\n",
            "Indique a opção desejada: 4\n",
            "--------------------------------------\n",
            "\n"
          ]
        }
      ]
    },
    {
      "cell_type": "markdown",
      "source": [
        "Selecionando elementos da lista"
      ],
      "metadata": {
        "id": "IXwjNvNUGCpQ"
      }
    },
    {
      "cell_type": "code",
      "source": [
        "lista = list(range(1,11))"
      ],
      "metadata": {
        "id": "e3253_K8F9XW"
      },
      "execution_count": null,
      "outputs": []
    },
    {
      "cell_type": "code",
      "source": [
        "lista"
      ],
      "metadata": {
        "colab": {
          "base_uri": "https://localhost:8080/"
        },
        "id": "9Nzh6vy7GKiJ",
        "outputId": "2cca72d6-c89d-4804-ad20-a190609a4b85"
      },
      "execution_count": null,
      "outputs": [
        {
          "output_type": "execute_result",
          "data": {
            "text/plain": [
              "[1, 2, 3, 4, 5, 6, 7, 8, 9, 10]"
            ]
          },
          "metadata": {},
          "execution_count": 139
        }
      ]
    },
    {
      "cell_type": "code",
      "source": [
        "lista[0]"
      ],
      "metadata": {
        "colab": {
          "base_uri": "https://localhost:8080/"
        },
        "id": "H_f_VPL0GLP6",
        "outputId": "77a63071-729b-4ec7-d84d-72a088ed3f98"
      },
      "execution_count": null,
      "outputs": [
        {
          "output_type": "execute_result",
          "data": {
            "text/plain": [
              "1"
            ]
          },
          "metadata": {},
          "execution_count": 140
        }
      ]
    },
    {
      "cell_type": "code",
      "source": [
        "lista[-1]"
      ],
      "metadata": {
        "colab": {
          "base_uri": "https://localhost:8080/"
        },
        "id": "b_BaJGi5GOVq",
        "outputId": "780851c0-930c-44a4-ea5d-e2a416c5173b"
      },
      "execution_count": null,
      "outputs": [
        {
          "output_type": "execute_result",
          "data": {
            "text/plain": [
              "10"
            ]
          },
          "metadata": {},
          "execution_count": 141
        }
      ]
    },
    {
      "cell_type": "code",
      "source": [
        "lista[-2]"
      ],
      "metadata": {
        "colab": {
          "base_uri": "https://localhost:8080/"
        },
        "id": "h_rQbx0ZGSmZ",
        "outputId": "006c0321-4586-413e-9493-81ce0c163bbe"
      },
      "execution_count": null,
      "outputs": [
        {
          "output_type": "execute_result",
          "data": {
            "text/plain": [
              "9"
            ]
          },
          "metadata": {},
          "execution_count": 142
        }
      ]
    },
    {
      "cell_type": "code",
      "source": [
        "lista[3:7]"
      ],
      "metadata": {
        "colab": {
          "base_uri": "https://localhost:8080/"
        },
        "id": "FGgki_55Gckt",
        "outputId": "d7da768a-3d4d-4cbd-c63a-4e06b9ff2780"
      },
      "execution_count": null,
      "outputs": [
        {
          "output_type": "execute_result",
          "data": {
            "text/plain": [
              "[4, 5, 6, 7]"
            ]
          },
          "metadata": {},
          "execution_count": 143
        }
      ]
    },
    {
      "cell_type": "code",
      "source": [
        "texto = 'Oi pessoal, estamos já concluindo!'"
      ],
      "metadata": {
        "id": "ZXghbyIYGgz5"
      },
      "execution_count": null,
      "outputs": []
    },
    {
      "cell_type": "code",
      "source": [
        "texto[5:10]"
      ],
      "metadata": {
        "colab": {
          "base_uri": "https://localhost:8080/",
          "height": 35
        },
        "id": "FLMvtig9Gyh-",
        "outputId": "1e759d58-39b7-4801-bc4b-b67aaa14e083"
      },
      "execution_count": null,
      "outputs": [
        {
          "output_type": "execute_result",
          "data": {
            "text/plain": [
              "'ssoal'"
            ],
            "application/vnd.google.colaboratory.intrinsic+json": {
              "type": "string"
            }
          },
          "metadata": {},
          "execution_count": 145
        }
      ]
    },
    {
      "cell_type": "code",
      "source": [
        "texto[-5:]"
      ],
      "metadata": {
        "colab": {
          "base_uri": "https://localhost:8080/",
          "height": 35
        },
        "id": "DRUO4lK5G1U-",
        "outputId": "3143be34-494c-487f-bf39-fc6005a1f735"
      },
      "execution_count": null,
      "outputs": [
        {
          "output_type": "execute_result",
          "data": {
            "text/plain": [
              "'indo!'"
            ],
            "application/vnd.google.colaboratory.intrinsic+json": {
              "type": "string"
            }
          },
          "metadata": {},
          "execution_count": 146
        }
      ]
    },
    {
      "cell_type": "code",
      "source": [
        "'já' in texto"
      ],
      "metadata": {
        "colab": {
          "base_uri": "https://localhost:8080/"
        },
        "id": "jElAgJ3iG7xs",
        "outputId": "f46939bc-2f2a-49c1-fda3-7ffe47998f92"
      },
      "execution_count": null,
      "outputs": [
        {
          "output_type": "execute_result",
          "data": {
            "text/plain": [
              "True"
            ]
          },
          "metadata": {},
          "execution_count": 147
        }
      ]
    },
    {
      "cell_type": "code",
      "source": [
        "5 in lista"
      ],
      "metadata": {
        "colab": {
          "base_uri": "https://localhost:8080/"
        },
        "id": "WY42_mYzHJYn",
        "outputId": "102a8cb2-dbad-4b04-8fad-0983fdde8baf"
      },
      "execution_count": null,
      "outputs": [
        {
          "output_type": "execute_result",
          "data": {
            "text/plain": [
              "True"
            ]
          },
          "metadata": {},
          "execution_count": 148
        }
      ]
    },
    {
      "cell_type": "code",
      "source": [],
      "metadata": {
        "id": "JHXmxSKOHL_P"
      },
      "execution_count": null,
      "outputs": []
    }
  ]
}